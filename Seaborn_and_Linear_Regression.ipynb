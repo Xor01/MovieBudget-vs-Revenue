{
  "cells": [
    {
      "cell_type": "markdown",
      "metadata": {
        "id": "gltiGJhvrzaL"
      },
      "source": [
        "# Introduction\n",
        "\n",
        "Do higher film budgets lead to more box office revenue? Let's find out if there's a relationship using the movie budgets and financial performance data that I've scraped from [the-numbers.com](https://www.the-numbers.com/movie/budgets) on **May 1st, 2018**. \n",
        "\n",
        "<img src=https://i.imgur.com/kq7hrEh.png>"
      ]
    },
    {
      "cell_type": "markdown",
      "metadata": {
        "id": "zkLrvlKvtdih"
      },
      "source": [
        "# Import Statements"
      ]
    },
    {
      "cell_type": "code",
      "execution_count": 1,
      "metadata": {
        "id": "NpDk_q_Urroj"
      },
      "outputs": [],
      "source": [
        "import pandas as pd\n",
        "import matplotlib.pyplot as plt\n",
        "import seaborn as sns"
      ]
    },
    {
      "cell_type": "markdown",
      "metadata": {
        "id": "x5B-UDvXtnC6"
      },
      "source": [
        "# Notebook Presentation"
      ]
    },
    {
      "cell_type": "code",
      "execution_count": 2,
      "metadata": {
        "id": "nM_otvWztjpT"
      },
      "outputs": [],
      "source": [
        "pd.options.display.float_format = '{:,.2f}'.format\n",
        "\n",
        "from pandas.plotting import register_matplotlib_converters\n",
        "register_matplotlib_converters()"
      ]
    },
    {
      "cell_type": "markdown",
      "metadata": {
        "id": "v-fnwNYJtthe"
      },
      "source": [
        "# Read the Data"
      ]
    },
    {
      "cell_type": "code",
      "execution_count": 3,
      "metadata": {
        "id": "xhwvQQWitrf4"
      },
      "outputs": [],
      "source": [
        "data = pd.read_csv('cost_revenue_dirty.csv')"
      ]
    },
    {
      "cell_type": "markdown",
      "metadata": {
        "id": "tbg8_J5SuHhs"
      },
      "source": [
        "# Explore and Clean the Data"
      ]
    },
    {
      "cell_type": "markdown",
      "metadata": {
        "id": "xAtdcURCuL0Z"
      },
      "source": [
        "**Challenge**: Answer these questions about the dataset:\n",
        "1. How many rows and columns does the dataset contain?\n",
        "2. Are there any NaN values present?\n",
        "3. Are there any duplicate rows?\n",
        "4. What are the data types of the columns?"
      ]
    },
    {
      "cell_type": "code",
      "execution_count": 4,
      "metadata": {
        "id": "PV3KLBSVTMDN"
      },
      "outputs": [
        {
          "name": "stdout",
          "output_type": "stream",
          "text": [
            "\n",
            "data shape is (5391, 6)\n",
            "\n",
            "NaN values: Rank                     False\n",
            "Release_Date             False\n",
            "Movie_Title              False\n",
            "USD_Production_Budget    False\n",
            "USD_Worldwide_Gross      False\n",
            "USD_Domestic_Gross       False\n",
            "dtype: bool\n",
            "\n",
            "Duplicate rows: False\n",
            "<class 'pandas.core.frame.DataFrame'>\n",
            "RangeIndex: 5391 entries, 0 to 5390\n",
            "Data columns (total 6 columns):\n",
            " #   Column                 Non-Null Count  Dtype \n",
            "---  ------                 --------------  ----- \n",
            " 0   Rank                   5391 non-null   int64 \n",
            " 1   Release_Date           5391 non-null   object\n",
            " 2   Movie_Title            5391 non-null   object\n",
            " 3   USD_Production_Budget  5391 non-null   object\n",
            " 4   USD_Worldwide_Gross    5391 non-null   object\n",
            " 5   USD_Domestic_Gross     5391 non-null   object\n",
            "dtypes: int64(1), object(5)\n",
            "memory usage: 252.8+ KB\n",
            "\n",
            "Data type of columns: None\n"
          ]
        }
      ],
      "source": [
        "print(f'\\ndata shape is {data.shape}')\n",
        "print(f'\\nNaN values: {data.isna().any()}')\n",
        "print(f'\\nDuplicate rows: {data.duplicated().values.any()}')\n",
        "print(f'\\nData type of columns: {data.info()}')"
      ]
    },
    {
      "cell_type": "code",
      "execution_count": 5,
      "metadata": {},
      "outputs": [
        {
          "data": {
            "text/html": [
              "<div>\n",
              "<style scoped>\n",
              "    .dataframe tbody tr th:only-of-type {\n",
              "        vertical-align: middle;\n",
              "    }\n",
              "\n",
              "    .dataframe tbody tr th {\n",
              "        vertical-align: top;\n",
              "    }\n",
              "\n",
              "    .dataframe thead th {\n",
              "        text-align: right;\n",
              "    }\n",
              "</style>\n",
              "<table border=\"1\" class=\"dataframe\">\n",
              "  <thead>\n",
              "    <tr style=\"text-align: right;\">\n",
              "      <th></th>\n",
              "      <th>Rank</th>\n",
              "      <th>Release_Date</th>\n",
              "      <th>Movie_Title</th>\n",
              "      <th>USD_Production_Budget</th>\n",
              "      <th>USD_Worldwide_Gross</th>\n",
              "      <th>USD_Domestic_Gross</th>\n",
              "    </tr>\n",
              "  </thead>\n",
              "  <tbody>\n",
              "    <tr>\n",
              "      <th>0</th>\n",
              "      <td>5293</td>\n",
              "      <td>8/2/1915</td>\n",
              "      <td>The Birth of a Nation</td>\n",
              "      <td>$110,000</td>\n",
              "      <td>$11,000,000</td>\n",
              "      <td>$10,000,000</td>\n",
              "    </tr>\n",
              "    <tr>\n",
              "      <th>1</th>\n",
              "      <td>5140</td>\n",
              "      <td>5/9/1916</td>\n",
              "      <td>Intolerance</td>\n",
              "      <td>$385,907</td>\n",
              "      <td>$0</td>\n",
              "      <td>$0</td>\n",
              "    </tr>\n",
              "    <tr>\n",
              "      <th>2</th>\n",
              "      <td>5230</td>\n",
              "      <td>12/24/1916</td>\n",
              "      <td>20,000 Leagues Under the Sea</td>\n",
              "      <td>$200,000</td>\n",
              "      <td>$8,000,000</td>\n",
              "      <td>$8,000,000</td>\n",
              "    </tr>\n",
              "    <tr>\n",
              "      <th>3</th>\n",
              "      <td>5299</td>\n",
              "      <td>9/17/1920</td>\n",
              "      <td>Over the Hill to the Poorhouse</td>\n",
              "      <td>$100,000</td>\n",
              "      <td>$3,000,000</td>\n",
              "      <td>$3,000,000</td>\n",
              "    </tr>\n",
              "    <tr>\n",
              "      <th>4</th>\n",
              "      <td>5222</td>\n",
              "      <td>1/1/1925</td>\n",
              "      <td>The Big Parade</td>\n",
              "      <td>$245,000</td>\n",
              "      <td>$22,000,000</td>\n",
              "      <td>$11,000,000</td>\n",
              "    </tr>\n",
              "  </tbody>\n",
              "</table>\n",
              "</div>"
            ],
            "text/plain": [
              "   Rank Release_Date                     Movie_Title USD_Production_Budget  \\\n",
              "0  5293     8/2/1915           The Birth of a Nation              $110,000   \n",
              "1  5140     5/9/1916                     Intolerance              $385,907   \n",
              "2  5230   12/24/1916    20,000 Leagues Under the Sea              $200,000   \n",
              "3  5299    9/17/1920  Over the Hill to the Poorhouse              $100,000   \n",
              "4  5222     1/1/1925                  The Big Parade              $245,000   \n",
              "\n",
              "  USD_Worldwide_Gross USD_Domestic_Gross  \n",
              "0         $11,000,000        $10,000,000  \n",
              "1                  $0                 $0  \n",
              "2          $8,000,000         $8,000,000  \n",
              "3          $3,000,000         $3,000,000  \n",
              "4         $22,000,000        $11,000,000  "
            ]
          },
          "execution_count": 5,
          "metadata": {},
          "output_type": "execute_result"
        }
      ],
      "source": [
        "data.head()"
      ]
    },
    {
      "cell_type": "markdown",
      "metadata": {
        "id": "v8spadDNvpVG"
      },
      "source": [
        "### Data Type Conversions"
      ]
    },
    {
      "cell_type": "markdown",
      "metadata": {
        "id": "9F8KFST4ulrd"
      },
      "source": [
        "**Challenge**: Convert the `USD_Production_Budget`, `USD_Worldwide_Gross`, and `USD_Domestic_Gross` columns to a numeric format by removing `$` signs and `,`. \n",
        "<br>\n",
        "<br>\n",
        "Note that *domestic* in this context refers to the United States."
      ]
    },
    {
      "cell_type": "code",
      "execution_count": 6,
      "metadata": {
        "id": "BmdCbLf-TPXk"
      },
      "outputs": [],
      "source": [
        "data['USD_Production_Budget'] = pd.to_numeric(data['USD_Production_Budget'].str.replace('$', '').str.replace(',', ''))\n",
        "data['USD_Domestic_Gross'] = pd.to_numeric(data['USD_Domestic_Gross'].str.replace('$', '').str.replace(',', ''))\n",
        "data['USD_Worldwide_Gross'] = pd.to_numeric(data['USD_Worldwide_Gross'].str.replace('$', '').str.replace(',', ''))"
      ]
    },
    {
      "cell_type": "markdown",
      "metadata": {
        "id": "cA01iJHkvWhl"
      },
      "source": [
        "**Challenge**: Convert the `Release_Date` column to a Pandas Datetime type. "
      ]
    },
    {
      "cell_type": "code",
      "execution_count": 7,
      "metadata": {
        "id": "Pq1WfvRnTRU6"
      },
      "outputs": [
        {
          "name": "stdout",
          "output_type": "stream",
          "text": [
            "Type of Release_Date data <class 'pandas._libs.tslibs.timestamps.Timestamp'>\n"
          ]
        }
      ],
      "source": [
        "data['Release_Date'] = pd.to_datetime(data['Release_Date'])\n",
        "print(f'Type of Release_Date data {type(data[\"Release_Date\"][0])}')"
      ]
    },
    {
      "cell_type": "markdown",
      "metadata": {
        "id": "NkwmJO3tvt5i"
      },
      "source": [
        "### Descriptive Statistics"
      ]
    },
    {
      "cell_type": "markdown",
      "metadata": {
        "id": "bnb54thrvx5r"
      },
      "source": [
        "**Challenge**: \n",
        "\n",
        "1. What is the average production budget of the films in the data set?\n",
        "2. What is the average worldwide gross revenue of films?\n",
        "3. What were the minimums for worldwide and domestic revenue?\n",
        "4. Are the bottom 25% of films actually profitable or do they lose money?\n",
        "5. What are the highest production budget and highest worldwide gross revenue of any film?\n",
        "6. How much revenue did the lowest and highest budget films make?"
      ]
    },
    {
      "cell_type": "code",
      "execution_count": 8,
      "metadata": {
        "id": "8G5_FATFTTtb"
      },
      "outputs": [
        {
          "name": "stdout",
          "output_type": "stream",
          "text": [
            "          Rank                   Release_Date  USD_Production_Budget  \\\n",
            "count 5,391.00                           5391               5,391.00   \n",
            "mean  2,696.00  2003-09-19 15:02:02.203672704          31,113,737.58   \n",
            "min       1.00            1915-08-02 00:00:00               1,100.00   \n",
            "25%   1,348.50            1999-12-02 12:00:00           5,000,000.00   \n",
            "50%   2,696.00            2006-06-23 00:00:00          17,000,000.00   \n",
            "75%   4,043.50            2011-11-23 00:00:00          40,000,000.00   \n",
            "max   5,391.00            2020-12-31 00:00:00         425,000,000.00   \n",
            "std   1,556.39                            NaN          40,523,796.88   \n",
            "\n",
            "       USD_Worldwide_Gross  USD_Domestic_Gross  \n",
            "count             5,391.00            5,391.00  \n",
            "mean         88,855,421.96       41,235,519.44  \n",
            "min                   0.00                0.00  \n",
            "25%           3,865,206.00        1,330,901.50  \n",
            "50%          27,450,453.00       17,192,205.00  \n",
            "75%          96,454,455.00       52,343,687.00  \n",
            "max       2,783,918,982.00      936,662,225.00  \n",
            "std         168,457,757.00       66,029,346.27  \n",
            "Minimum Domestic, and worldwide: 0, 0\n",
            "Highest Production budget and highest worldwide gross revenue: 425000000, 2783918982\n",
            "Movie with highest budget:       Rank Release_Date Movie_Title  USD_Production_Budget  \\\n",
            "3529     1   2009-12-18      Avatar              425000000   \n",
            "\n",
            "      USD_Worldwide_Gross  USD_Domestic_Gross  \n",
            "3529           2783918982           760507625  \n",
            "Lowest Production budget and lowest worldwide gross revenue: 1100, 0\n",
            "Movie with lowest budget:       Rank Release_Date        Movie_Title  USD_Production_Budget  \\\n",
            "2427  5391   2005-05-08  My Date With Drew                   1100   \n",
            "\n",
            "      USD_Worldwide_Gross  USD_Domestic_Gross  \n",
            "2427               181041              181041  \n"
          ]
        }
      ],
      "source": [
        "print(data.describe())\n",
        "print(f\"Minimum Domestic, and worldwide: {data['USD_Domestic_Gross'].min()}, {data['USD_Worldwide_Gross'].min()}\")\n",
        "print(f\"Highest Production budget and highest worldwide gross revenue: {data['USD_Production_Budget'].max()}, {data['USD_Worldwide_Gross'].max()}\")\n",
        "print(f\"Movie with highest budget: {data[data['USD_Production_Budget'] == data['USD_Production_Budget'].max()]}\")\n",
        "print(f\"Lowest Production budget and lowest worldwide gross revenue: {data['USD_Production_Budget'].min()}, {data['USD_Worldwide_Gross'].min()}\")\n",
        "print(f\"Movie with lowest budget: {data[data['USD_Production_Budget'] == data['USD_Production_Budget'].min()]}\")"
      ]
    },
    {
      "cell_type": "markdown",
      "metadata": {
        "id": "Cj-ug32JyEhp"
      },
      "source": [
        "# Investigating the Zero Revenue Films"
      ]
    },
    {
      "cell_type": "markdown",
      "metadata": {
        "id": "U9hm-pb4xTjY"
      },
      "source": [
        "**Challenge** How many films grossed $0 domestically (i.e., in the United States)? What were the highest budget films that grossed nothing?"
      ]
    },
    {
      "cell_type": "code",
      "execution_count": 9,
      "metadata": {
        "id": "MXuRYdy0TWkt"
      },
      "outputs": [
        {
          "name": "stdout",
          "output_type": "stream",
          "text": [
            "Number of domestic movies with 0 gross revenue: 512\n",
            "    Rank Release_Date                       Movie_Title  \\\n",
            "1   5140   1916-05-09                       Intolerance   \n",
            "6   4630   1927-12-08                             Wings   \n",
            "8   4240   1930-01-01                     Hell's Angels   \n",
            "17  4814   1936-10-20  Charge of the Light Brigade, The   \n",
            "27  4789   1941-10-28           How Green Was My Valley   \n",
            "\n",
            "    USD_Production_Budget  USD_Worldwide_Gross  USD_Domestic_Gross  \n",
            "1                  385907                    0                   0  \n",
            "6                 2000000                    0                   0  \n",
            "8                 4000000                    0                   0  \n",
            "17                1200000                    0                   0  \n",
            "27                1250000                    0                   0  \n",
            "Highest Budget with no revenue:       Rank Release_Date  Movie_Title  USD_Production_Budget  \\\n",
            "5388    96   2020-12-31  Singularity              175000000   \n",
            "\n",
            "      USD_Worldwide_Gross  USD_Domestic_Gross  \n",
            "5388                    0                   0  \n"
          ]
        }
      ],
      "source": [
        "domestic_no_revenue_movies = data[data['USD_Domestic_Gross'] == 0]\n",
        "print(f'Number of domestic movies with 0 gross revenue: {len(domestic_no_revenue_movies)}')\n",
        "print(domestic_no_revenue_movies.head())\n",
        "print(f'Highest Budget with no revenue: {domestic_no_revenue_movies[domestic_no_revenue_movies[\"USD_Production_Budget\"] == domestic_no_revenue_movies[\"USD_Production_Budget\"].max()]}')"
      ]
    },
    {
      "cell_type": "markdown",
      "metadata": {
        "id": "mY8SAwI0x73b"
      },
      "source": [
        "**Challenge**: How many films grossed $0 worldwide? What are the highest budget films that had no revenue internationally?"
      ]
    },
    {
      "cell_type": "code",
      "execution_count": 10,
      "metadata": {
        "id": "VpfocexxTXym"
      },
      "outputs": [
        {
          "name": "stdout",
          "output_type": "stream",
          "text": [
            "Number of movies with 0 gross revenue: 357\n",
            "Highest budget movie with 0 revenue:       Rank Release_Date  Movie_Title  USD_Production_Budget  \\\n",
            "5388    96   2020-12-31  Singularity              175000000   \n",
            "\n",
            "      USD_Worldwide_Gross  USD_Domestic_Gross  \n",
            "5388                    0                   0  \n"
          ]
        }
      ],
      "source": [
        "worldwide_no_revenue_movies = data[data['USD_Worldwide_Gross'] == 0]\n",
        "print(f\"Number of movies with 0 gross revenue: {len(worldwide_no_revenue_movies)}\")\n",
        "print(f'Highest budget movie with 0 revenue: {worldwide_no_revenue_movies[worldwide_no_revenue_movies[\"USD_Production_Budget\"] == worldwide_no_revenue_movies[\"USD_Production_Budget\"].max()]}')"
      ]
    },
    {
      "cell_type": "markdown",
      "metadata": {
        "id": "eXUDzWpeyV2f"
      },
      "source": [
        "### Filtering on Multiple Conditions"
      ]
    },
    {
      "cell_type": "code",
      "execution_count": 11,
      "metadata": {
        "id": "dLd3eeD9TZZ9"
      },
      "outputs": [
        {
          "data": {
            "text/html": [
              "<div>\n",
              "<style scoped>\n",
              "    .dataframe tbody tr th:only-of-type {\n",
              "        vertical-align: middle;\n",
              "    }\n",
              "\n",
              "    .dataframe tbody tr th {\n",
              "        vertical-align: top;\n",
              "    }\n",
              "\n",
              "    .dataframe thead th {\n",
              "        text-align: right;\n",
              "    }\n",
              "</style>\n",
              "<table border=\"1\" class=\"dataframe\">\n",
              "  <thead>\n",
              "    <tr style=\"text-align: right;\">\n",
              "      <th></th>\n",
              "      <th>Rank</th>\n",
              "      <th>Release_Date</th>\n",
              "      <th>Movie_Title</th>\n",
              "      <th>USD_Production_Budget</th>\n",
              "      <th>USD_Worldwide_Gross</th>\n",
              "      <th>USD_Domestic_Gross</th>\n",
              "    </tr>\n",
              "  </thead>\n",
              "  <tbody>\n",
              "    <tr>\n",
              "      <th>71</th>\n",
              "      <td>4310</td>\n",
              "      <td>1956-02-16</td>\n",
              "      <td>Carousel</td>\n",
              "      <td>3380000</td>\n",
              "      <td>3220</td>\n",
              "      <td>0</td>\n",
              "    </tr>\n",
              "    <tr>\n",
              "      <th>1579</th>\n",
              "      <td>5087</td>\n",
              "      <td>2001-02-11</td>\n",
              "      <td>Everything Put Together</td>\n",
              "      <td>500000</td>\n",
              "      <td>7890</td>\n",
              "      <td>0</td>\n",
              "    </tr>\n",
              "    <tr>\n",
              "      <th>1744</th>\n",
              "      <td>3695</td>\n",
              "      <td>2001-12-31</td>\n",
              "      <td>The Hole</td>\n",
              "      <td>7500000</td>\n",
              "      <td>10834406</td>\n",
              "      <td>0</td>\n",
              "    </tr>\n",
              "    <tr>\n",
              "      <th>2155</th>\n",
              "      <td>4236</td>\n",
              "      <td>2003-12-31</td>\n",
              "      <td>Nothing</td>\n",
              "      <td>4000000</td>\n",
              "      <td>63180</td>\n",
              "      <td>0</td>\n",
              "    </tr>\n",
              "    <tr>\n",
              "      <th>2203</th>\n",
              "      <td>2513</td>\n",
              "      <td>2004-03-31</td>\n",
              "      <td>The Touch</td>\n",
              "      <td>20000000</td>\n",
              "      <td>5918742</td>\n",
              "      <td>0</td>\n",
              "    </tr>\n",
              "    <tr>\n",
              "      <th>...</th>\n",
              "      <td>...</td>\n",
              "      <td>...</td>\n",
              "      <td>...</td>\n",
              "      <td>...</td>\n",
              "      <td>...</td>\n",
              "      <td>...</td>\n",
              "    </tr>\n",
              "    <tr>\n",
              "      <th>5340</th>\n",
              "      <td>1506</td>\n",
              "      <td>2017-04-14</td>\n",
              "      <td>Queen of the Desert</td>\n",
              "      <td>36000000</td>\n",
              "      <td>1480089</td>\n",
              "      <td>0</td>\n",
              "    </tr>\n",
              "    <tr>\n",
              "      <th>5348</th>\n",
              "      <td>2225</td>\n",
              "      <td>2017-05-05</td>\n",
              "      <td>Chāi dàn zhuānjiā</td>\n",
              "      <td>23000000</td>\n",
              "      <td>58807172</td>\n",
              "      <td>0</td>\n",
              "    </tr>\n",
              "    <tr>\n",
              "      <th>5360</th>\n",
              "      <td>4832</td>\n",
              "      <td>2017-07-03</td>\n",
              "      <td>Departure</td>\n",
              "      <td>1100000</td>\n",
              "      <td>27561</td>\n",
              "      <td>0</td>\n",
              "    </tr>\n",
              "    <tr>\n",
              "      <th>5372</th>\n",
              "      <td>1856</td>\n",
              "      <td>2017-08-25</td>\n",
              "      <td>Ballerina</td>\n",
              "      <td>30000000</td>\n",
              "      <td>48048527</td>\n",
              "      <td>0</td>\n",
              "    </tr>\n",
              "    <tr>\n",
              "      <th>5374</th>\n",
              "      <td>4237</td>\n",
              "      <td>2017-08-25</td>\n",
              "      <td>Polina danser sa vie</td>\n",
              "      <td>4000000</td>\n",
              "      <td>36630</td>\n",
              "      <td>0</td>\n",
              "    </tr>\n",
              "  </tbody>\n",
              "</table>\n",
              "<p>155 rows × 6 columns</p>\n",
              "</div>"
            ],
            "text/plain": [
              "      Rank Release_Date              Movie_Title  USD_Production_Budget  \\\n",
              "71    4310   1956-02-16                 Carousel                3380000   \n",
              "1579  5087   2001-02-11  Everything Put Together                 500000   \n",
              "1744  3695   2001-12-31                 The Hole                7500000   \n",
              "2155  4236   2003-12-31                  Nothing                4000000   \n",
              "2203  2513   2004-03-31                The Touch               20000000   \n",
              "...    ...          ...                      ...                    ...   \n",
              "5340  1506   2017-04-14      Queen of the Desert               36000000   \n",
              "5348  2225   2017-05-05        Chāi dàn zhuānjiā               23000000   \n",
              "5360  4832   2017-07-03                Departure                1100000   \n",
              "5372  1856   2017-08-25                Ballerina               30000000   \n",
              "5374  4237   2017-08-25     Polina danser sa vie                4000000   \n",
              "\n",
              "      USD_Worldwide_Gross  USD_Domestic_Gross  \n",
              "71                   3220                   0  \n",
              "1579                 7890                   0  \n",
              "1744             10834406                   0  \n",
              "2155                63180                   0  \n",
              "2203              5918742                   0  \n",
              "...                   ...                 ...  \n",
              "5340              1480089                   0  \n",
              "5348             58807172                   0  \n",
              "5360                27561                   0  \n",
              "5372             48048527                   0  \n",
              "5374                36630                   0  \n",
              "\n",
              "[155 rows x 6 columns]"
            ]
          },
          "execution_count": 11,
          "metadata": {},
          "output_type": "execute_result"
        }
      ],
      "source": [
        "data.loc[(data['USD_Domestic_Gross'] == 0) & (data['USD_Worldwide_Gross'] != 0)]"
      ]
    },
    {
      "cell_type": "markdown",
      "metadata": {
        "id": "YruPjqLVPuiB"
      },
      "source": [
        "**Challenge**: Use the [`.query()` function](https://pandas.pydata.org/pandas-docs/stable/reference/api/pandas.DataFrame.query.html) to accomplish the same thing. Create a subset for international releases that had some worldwide gross revenue, but made zero revenue in the United States. \n",
        "\n",
        "Hint: This time you'll have to use the `and` keyword."
      ]
    },
    {
      "cell_type": "code",
      "execution_count": 12,
      "metadata": {
        "id": "Xvu-jTCwTavg"
      },
      "outputs": [
        {
          "data": {
            "text/html": [
              "<div>\n",
              "<style scoped>\n",
              "    .dataframe tbody tr th:only-of-type {\n",
              "        vertical-align: middle;\n",
              "    }\n",
              "\n",
              "    .dataframe tbody tr th {\n",
              "        vertical-align: top;\n",
              "    }\n",
              "\n",
              "    .dataframe thead th {\n",
              "        text-align: right;\n",
              "    }\n",
              "</style>\n",
              "<table border=\"1\" class=\"dataframe\">\n",
              "  <thead>\n",
              "    <tr style=\"text-align: right;\">\n",
              "      <th></th>\n",
              "      <th>Rank</th>\n",
              "      <th>Release_Date</th>\n",
              "      <th>Movie_Title</th>\n",
              "      <th>USD_Production_Budget</th>\n",
              "      <th>USD_Worldwide_Gross</th>\n",
              "      <th>USD_Domestic_Gross</th>\n",
              "    </tr>\n",
              "  </thead>\n",
              "  <tbody>\n",
              "    <tr>\n",
              "      <th>71</th>\n",
              "      <td>4310</td>\n",
              "      <td>1956-02-16</td>\n",
              "      <td>Carousel</td>\n",
              "      <td>3380000</td>\n",
              "      <td>3220</td>\n",
              "      <td>0</td>\n",
              "    </tr>\n",
              "    <tr>\n",
              "      <th>1579</th>\n",
              "      <td>5087</td>\n",
              "      <td>2001-02-11</td>\n",
              "      <td>Everything Put Together</td>\n",
              "      <td>500000</td>\n",
              "      <td>7890</td>\n",
              "      <td>0</td>\n",
              "    </tr>\n",
              "    <tr>\n",
              "      <th>1744</th>\n",
              "      <td>3695</td>\n",
              "      <td>2001-12-31</td>\n",
              "      <td>The Hole</td>\n",
              "      <td>7500000</td>\n",
              "      <td>10834406</td>\n",
              "      <td>0</td>\n",
              "    </tr>\n",
              "    <tr>\n",
              "      <th>2155</th>\n",
              "      <td>4236</td>\n",
              "      <td>2003-12-31</td>\n",
              "      <td>Nothing</td>\n",
              "      <td>4000000</td>\n",
              "      <td>63180</td>\n",
              "      <td>0</td>\n",
              "    </tr>\n",
              "    <tr>\n",
              "      <th>2203</th>\n",
              "      <td>2513</td>\n",
              "      <td>2004-03-31</td>\n",
              "      <td>The Touch</td>\n",
              "      <td>20000000</td>\n",
              "      <td>5918742</td>\n",
              "      <td>0</td>\n",
              "    </tr>\n",
              "    <tr>\n",
              "      <th>...</th>\n",
              "      <td>...</td>\n",
              "      <td>...</td>\n",
              "      <td>...</td>\n",
              "      <td>...</td>\n",
              "      <td>...</td>\n",
              "      <td>...</td>\n",
              "    </tr>\n",
              "    <tr>\n",
              "      <th>5340</th>\n",
              "      <td>1506</td>\n",
              "      <td>2017-04-14</td>\n",
              "      <td>Queen of the Desert</td>\n",
              "      <td>36000000</td>\n",
              "      <td>1480089</td>\n",
              "      <td>0</td>\n",
              "    </tr>\n",
              "    <tr>\n",
              "      <th>5348</th>\n",
              "      <td>2225</td>\n",
              "      <td>2017-05-05</td>\n",
              "      <td>Chāi dàn zhuānjiā</td>\n",
              "      <td>23000000</td>\n",
              "      <td>58807172</td>\n",
              "      <td>0</td>\n",
              "    </tr>\n",
              "    <tr>\n",
              "      <th>5360</th>\n",
              "      <td>4832</td>\n",
              "      <td>2017-07-03</td>\n",
              "      <td>Departure</td>\n",
              "      <td>1100000</td>\n",
              "      <td>27561</td>\n",
              "      <td>0</td>\n",
              "    </tr>\n",
              "    <tr>\n",
              "      <th>5372</th>\n",
              "      <td>1856</td>\n",
              "      <td>2017-08-25</td>\n",
              "      <td>Ballerina</td>\n",
              "      <td>30000000</td>\n",
              "      <td>48048527</td>\n",
              "      <td>0</td>\n",
              "    </tr>\n",
              "    <tr>\n",
              "      <th>5374</th>\n",
              "      <td>4237</td>\n",
              "      <td>2017-08-25</td>\n",
              "      <td>Polina danser sa vie</td>\n",
              "      <td>4000000</td>\n",
              "      <td>36630</td>\n",
              "      <td>0</td>\n",
              "    </tr>\n",
              "  </tbody>\n",
              "</table>\n",
              "<p>155 rows × 6 columns</p>\n",
              "</div>"
            ],
            "text/plain": [
              "      Rank Release_Date              Movie_Title  USD_Production_Budget  \\\n",
              "71    4310   1956-02-16                 Carousel                3380000   \n",
              "1579  5087   2001-02-11  Everything Put Together                 500000   \n",
              "1744  3695   2001-12-31                 The Hole                7500000   \n",
              "2155  4236   2003-12-31                  Nothing                4000000   \n",
              "2203  2513   2004-03-31                The Touch               20000000   \n",
              "...    ...          ...                      ...                    ...   \n",
              "5340  1506   2017-04-14      Queen of the Desert               36000000   \n",
              "5348  2225   2017-05-05        Chāi dàn zhuānjiā               23000000   \n",
              "5360  4832   2017-07-03                Departure                1100000   \n",
              "5372  1856   2017-08-25                Ballerina               30000000   \n",
              "5374  4237   2017-08-25     Polina danser sa vie                4000000   \n",
              "\n",
              "      USD_Worldwide_Gross  USD_Domestic_Gross  \n",
              "71                   3220                   0  \n",
              "1579                 7890                   0  \n",
              "1744             10834406                   0  \n",
              "2155                63180                   0  \n",
              "2203              5918742                   0  \n",
              "...                   ...                 ...  \n",
              "5340              1480089                   0  \n",
              "5348             58807172                   0  \n",
              "5360                27561                   0  \n",
              "5372             48048527                   0  \n",
              "5374                36630                   0  \n",
              "\n",
              "[155 rows x 6 columns]"
            ]
          },
          "execution_count": 12,
          "metadata": {},
          "output_type": "execute_result"
        }
      ],
      "source": [
        "data.query('(USD_Worldwide_Gross != 0) and (USD_Domestic_Gross == 0)')"
      ]
    },
    {
      "cell_type": "markdown",
      "metadata": {
        "id": "EM-FTE4OZhfr"
      },
      "source": [
        "### Unreleased Films\n",
        "\n",
        "**Challenge**:\n",
        "* Identify which films were not released yet as of the time of data collection (May 1st, 2018).\n",
        "* How many films are included in the dataset that have not yet had a chance to be screened in the box office? \n",
        "* Create another DataFrame called data_clean that does not include these films. "
      ]
    },
    {
      "cell_type": "code",
      "execution_count": 13,
      "metadata": {
        "id": "PIukYVY9Zpxu"
      },
      "outputs": [],
      "source": [
        "# Date of Data Collection\n",
        "scrape_date = pd.Timestamp('2018-5-1')"
      ]
    },
    {
      "cell_type": "code",
      "execution_count": 14,
      "metadata": {
        "id": "OAI0VsM3Tc6v"
      },
      "outputs": [
        {
          "name": "stdout",
          "output_type": "stream",
          "text": [
            "Number of movies that did not released from scrape date: 7\n"
          ]
        },
        {
          "data": {
            "text/html": [
              "<div>\n",
              "<style scoped>\n",
              "    .dataframe tbody tr th:only-of-type {\n",
              "        vertical-align: middle;\n",
              "    }\n",
              "\n",
              "    .dataframe tbody tr th {\n",
              "        vertical-align: top;\n",
              "    }\n",
              "\n",
              "    .dataframe thead th {\n",
              "        text-align: right;\n",
              "    }\n",
              "</style>\n",
              "<table border=\"1\" class=\"dataframe\">\n",
              "  <thead>\n",
              "    <tr style=\"text-align: right;\">\n",
              "      <th></th>\n",
              "      <th>Rank</th>\n",
              "      <th>Release_Date</th>\n",
              "      <th>Movie_Title</th>\n",
              "      <th>USD_Production_Budget</th>\n",
              "      <th>USD_Worldwide_Gross</th>\n",
              "      <th>USD_Domestic_Gross</th>\n",
              "    </tr>\n",
              "  </thead>\n",
              "  <tbody>\n",
              "    <tr>\n",
              "      <th>5384</th>\n",
              "      <td>321</td>\n",
              "      <td>2018-09-03</td>\n",
              "      <td>A Wrinkle in Time</td>\n",
              "      <td>103000000</td>\n",
              "      <td>0</td>\n",
              "      <td>0</td>\n",
              "    </tr>\n",
              "    <tr>\n",
              "      <th>5385</th>\n",
              "      <td>366</td>\n",
              "      <td>2018-10-08</td>\n",
              "      <td>Amusement Park</td>\n",
              "      <td>100000000</td>\n",
              "      <td>0</td>\n",
              "      <td>0</td>\n",
              "    </tr>\n",
              "    <tr>\n",
              "      <th>5386</th>\n",
              "      <td>2950</td>\n",
              "      <td>2018-10-08</td>\n",
              "      <td>Meg</td>\n",
              "      <td>15000000</td>\n",
              "      <td>0</td>\n",
              "      <td>0</td>\n",
              "    </tr>\n",
              "    <tr>\n",
              "      <th>5387</th>\n",
              "      <td>126</td>\n",
              "      <td>2018-12-18</td>\n",
              "      <td>Aquaman</td>\n",
              "      <td>160000000</td>\n",
              "      <td>0</td>\n",
              "      <td>0</td>\n",
              "    </tr>\n",
              "    <tr>\n",
              "      <th>5388</th>\n",
              "      <td>96</td>\n",
              "      <td>2020-12-31</td>\n",
              "      <td>Singularity</td>\n",
              "      <td>175000000</td>\n",
              "      <td>0</td>\n",
              "      <td>0</td>\n",
              "    </tr>\n",
              "  </tbody>\n",
              "</table>\n",
              "</div>"
            ],
            "text/plain": [
              "      Rank Release_Date        Movie_Title  USD_Production_Budget  \\\n",
              "5384   321   2018-09-03  A Wrinkle in Time              103000000   \n",
              "5385   366   2018-10-08     Amusement Park              100000000   \n",
              "5386  2950   2018-10-08                Meg               15000000   \n",
              "5387   126   2018-12-18            Aquaman              160000000   \n",
              "5388    96   2020-12-31        Singularity              175000000   \n",
              "\n",
              "      USD_Worldwide_Gross  USD_Domestic_Gross  \n",
              "5384                    0                   0  \n",
              "5385                    0                   0  \n",
              "5386                    0                   0  \n",
              "5387                    0                   0  \n",
              "5388                    0                   0  "
            ]
          },
          "execution_count": 14,
          "metadata": {},
          "output_type": "execute_result"
        }
      ],
      "source": [
        "not_released_then = data.loc[data['Release_Date'] > scrape_date]\n",
        "print(f'Number of movies that did not released from scrape date: {len(not_released_then)}')\n",
        "not_released_then.head()"
      ]
    },
    {
      "cell_type": "code",
      "execution_count": 15,
      "metadata": {},
      "outputs": [],
      "source": [
        "data_clean = data.drop(not_released_then.index)"
      ]
    },
    {
      "cell_type": "code",
      "execution_count": 16,
      "metadata": {},
      "outputs": [
        {
          "data": {
            "text/html": [
              "<div>\n",
              "<style scoped>\n",
              "    .dataframe tbody tr th:only-of-type {\n",
              "        vertical-align: middle;\n",
              "    }\n",
              "\n",
              "    .dataframe tbody tr th {\n",
              "        vertical-align: top;\n",
              "    }\n",
              "\n",
              "    .dataframe thead th {\n",
              "        text-align: right;\n",
              "    }\n",
              "</style>\n",
              "<table border=\"1\" class=\"dataframe\">\n",
              "  <thead>\n",
              "    <tr style=\"text-align: right;\">\n",
              "      <th></th>\n",
              "      <th>Rank</th>\n",
              "      <th>Release_Date</th>\n",
              "      <th>Movie_Title</th>\n",
              "      <th>USD_Production_Budget</th>\n",
              "      <th>USD_Worldwide_Gross</th>\n",
              "      <th>USD_Domestic_Gross</th>\n",
              "    </tr>\n",
              "  </thead>\n",
              "  <tbody>\n",
              "    <tr>\n",
              "      <th>0</th>\n",
              "      <td>5293</td>\n",
              "      <td>1915-08-02</td>\n",
              "      <td>The Birth of a Nation</td>\n",
              "      <td>110000</td>\n",
              "      <td>11000000</td>\n",
              "      <td>10000000</td>\n",
              "    </tr>\n",
              "    <tr>\n",
              "      <th>1</th>\n",
              "      <td>5140</td>\n",
              "      <td>1916-05-09</td>\n",
              "      <td>Intolerance</td>\n",
              "      <td>385907</td>\n",
              "      <td>0</td>\n",
              "      <td>0</td>\n",
              "    </tr>\n",
              "    <tr>\n",
              "      <th>2</th>\n",
              "      <td>5230</td>\n",
              "      <td>1916-12-24</td>\n",
              "      <td>20,000 Leagues Under the Sea</td>\n",
              "      <td>200000</td>\n",
              "      <td>8000000</td>\n",
              "      <td>8000000</td>\n",
              "    </tr>\n",
              "    <tr>\n",
              "      <th>3</th>\n",
              "      <td>5299</td>\n",
              "      <td>1920-09-17</td>\n",
              "      <td>Over the Hill to the Poorhouse</td>\n",
              "      <td>100000</td>\n",
              "      <td>3000000</td>\n",
              "      <td>3000000</td>\n",
              "    </tr>\n",
              "    <tr>\n",
              "      <th>4</th>\n",
              "      <td>5222</td>\n",
              "      <td>1925-01-01</td>\n",
              "      <td>The Big Parade</td>\n",
              "      <td>245000</td>\n",
              "      <td>22000000</td>\n",
              "      <td>11000000</td>\n",
              "    </tr>\n",
              "    <tr>\n",
              "      <th>...</th>\n",
              "      <td>...</td>\n",
              "      <td>...</td>\n",
              "      <td>...</td>\n",
              "      <td>...</td>\n",
              "      <td>...</td>\n",
              "      <td>...</td>\n",
              "    </tr>\n",
              "    <tr>\n",
              "      <th>5379</th>\n",
              "      <td>1295</td>\n",
              "      <td>2017-10-02</td>\n",
              "      <td>John Wick: Chapter Two</td>\n",
              "      <td>40000000</td>\n",
              "      <td>166893990</td>\n",
              "      <td>92029184</td>\n",
              "    </tr>\n",
              "    <tr>\n",
              "      <th>5380</th>\n",
              "      <td>70</td>\n",
              "      <td>2017-10-03</td>\n",
              "      <td>Kong: Skull Island</td>\n",
              "      <td>185000000</td>\n",
              "      <td>561137727</td>\n",
              "      <td>168052812</td>\n",
              "    </tr>\n",
              "    <tr>\n",
              "      <th>5381</th>\n",
              "      <td>94</td>\n",
              "      <td>2017-12-05</td>\n",
              "      <td>King Arthur: Legend of the Sword</td>\n",
              "      <td>175000000</td>\n",
              "      <td>140012608</td>\n",
              "      <td>39175066</td>\n",
              "    </tr>\n",
              "    <tr>\n",
              "      <th>5382</th>\n",
              "      <td>1254</td>\n",
              "      <td>2017-12-05</td>\n",
              "      <td>Snatched</td>\n",
              "      <td>42000000</td>\n",
              "      <td>57850343</td>\n",
              "      <td>45850343</td>\n",
              "    </tr>\n",
              "    <tr>\n",
              "      <th>5383</th>\n",
              "      <td>2521</td>\n",
              "      <td>2017-12-31</td>\n",
              "      <td>The Thousand Miles</td>\n",
              "      <td>20000000</td>\n",
              "      <td>0</td>\n",
              "      <td>0</td>\n",
              "    </tr>\n",
              "  </tbody>\n",
              "</table>\n",
              "<p>5384 rows × 6 columns</p>\n",
              "</div>"
            ],
            "text/plain": [
              "      Rank Release_Date                       Movie_Title  \\\n",
              "0     5293   1915-08-02             The Birth of a Nation   \n",
              "1     5140   1916-05-09                       Intolerance   \n",
              "2     5230   1916-12-24      20,000 Leagues Under the Sea   \n",
              "3     5299   1920-09-17    Over the Hill to the Poorhouse   \n",
              "4     5222   1925-01-01                    The Big Parade   \n",
              "...    ...          ...                               ...   \n",
              "5379  1295   2017-10-02            John Wick: Chapter Two   \n",
              "5380    70   2017-10-03                Kong: Skull Island   \n",
              "5381    94   2017-12-05  King Arthur: Legend of the Sword   \n",
              "5382  1254   2017-12-05                          Snatched   \n",
              "5383  2521   2017-12-31                The Thousand Miles   \n",
              "\n",
              "      USD_Production_Budget  USD_Worldwide_Gross  USD_Domestic_Gross  \n",
              "0                    110000             11000000            10000000  \n",
              "1                    385907                    0                   0  \n",
              "2                    200000              8000000             8000000  \n",
              "3                    100000              3000000             3000000  \n",
              "4                    245000             22000000            11000000  \n",
              "...                     ...                  ...                 ...  \n",
              "5379               40000000            166893990            92029184  \n",
              "5380              185000000            561137727           168052812  \n",
              "5381              175000000            140012608            39175066  \n",
              "5382               42000000             57850343            45850343  \n",
              "5383               20000000                    0                   0  \n",
              "\n",
              "[5384 rows x 6 columns]"
            ]
          },
          "execution_count": 16,
          "metadata": {},
          "output_type": "execute_result"
        }
      ],
      "source": [
        "data_clean"
      ]
    },
    {
      "cell_type": "markdown",
      "metadata": {
        "id": "khrJcXlGZWZO"
      },
      "source": [
        "### Films that Lost Money\n",
        "\n",
        "**Challenge**: \n",
        "What is the percentage of films where the production costs exceeded the worldwide gross revenue? "
      ]
    },
    {
      "cell_type": "code",
      "execution_count": 17,
      "metadata": {},
      "outputs": [
        {
          "data": {
            "text/html": [
              "<div>\n",
              "<style scoped>\n",
              "    .dataframe tbody tr th:only-of-type {\n",
              "        vertical-align: middle;\n",
              "    }\n",
              "\n",
              "    .dataframe tbody tr th {\n",
              "        vertical-align: top;\n",
              "    }\n",
              "\n",
              "    .dataframe thead th {\n",
              "        text-align: right;\n",
              "    }\n",
              "</style>\n",
              "<table border=\"1\" class=\"dataframe\">\n",
              "  <thead>\n",
              "    <tr style=\"text-align: right;\">\n",
              "      <th></th>\n",
              "      <th>Rank</th>\n",
              "      <th>Release_Date</th>\n",
              "      <th>USD_Production_Budget</th>\n",
              "      <th>USD_Worldwide_Gross</th>\n",
              "      <th>USD_Domestic_Gross</th>\n",
              "    </tr>\n",
              "  </thead>\n",
              "  <tbody>\n",
              "    <tr>\n",
              "      <th>count</th>\n",
              "      <td>5,384.00</td>\n",
              "      <td>5384</td>\n",
              "      <td>5,384.00</td>\n",
              "      <td>5,384.00</td>\n",
              "      <td>5,384.00</td>\n",
              "    </tr>\n",
              "    <tr>\n",
              "      <th>mean</th>\n",
              "      <td>2,698.11</td>\n",
              "      <td>2003-09-12 00:26:12.659732480</td>\n",
              "      <td>31,038,476.84</td>\n",
              "      <td>88,970,947.21</td>\n",
              "      <td>41,289,131.75</td>\n",
              "    </tr>\n",
              "    <tr>\n",
              "      <th>min</th>\n",
              "      <td>1.00</td>\n",
              "      <td>1915-08-02 00:00:00</td>\n",
              "      <td>1,100.00</td>\n",
              "      <td>0.00</td>\n",
              "      <td>0.00</td>\n",
              "    </tr>\n",
              "    <tr>\n",
              "      <th>25%</th>\n",
              "      <td>1,351.75</td>\n",
              "      <td>1999-12-02 00:00:00</td>\n",
              "      <td>5,000,000.00</td>\n",
              "      <td>3,929,036.00</td>\n",
              "      <td>1,354,765.25</td>\n",
              "    </tr>\n",
              "    <tr>\n",
              "      <th>50%</th>\n",
              "      <td>2,698.50</td>\n",
              "      <td>2006-06-16 00:00:00</td>\n",
              "      <td>17,000,000.00</td>\n",
              "      <td>27,537,329.00</td>\n",
              "      <td>17,221,932.00</td>\n",
              "    </tr>\n",
              "    <tr>\n",
              "      <th>75%</th>\n",
              "      <td>4,045.25</td>\n",
              "      <td>2011-11-18 00:00:00</td>\n",
              "      <td>40,000,000.00</td>\n",
              "      <td>96,641,996.25</td>\n",
              "      <td>52,403,530.00</td>\n",
              "    </tr>\n",
              "    <tr>\n",
              "      <th>max</th>\n",
              "      <td>5,391.00</td>\n",
              "      <td>2017-12-31 00:00:00</td>\n",
              "      <td>425,000,000.00</td>\n",
              "      <td>2,783,918,982.00</td>\n",
              "      <td>936,662,225.00</td>\n",
              "    </tr>\n",
              "    <tr>\n",
              "      <th>std</th>\n",
              "      <td>1,555.79</td>\n",
              "      <td>NaN</td>\n",
              "      <td>40,440,041.47</td>\n",
              "      <td>168,536,755.89</td>\n",
              "      <td>66,055,507.64</td>\n",
              "    </tr>\n",
              "  </tbody>\n",
              "</table>\n",
              "</div>"
            ],
            "text/plain": [
              "          Rank                   Release_Date  USD_Production_Budget  \\\n",
              "count 5,384.00                           5384               5,384.00   \n",
              "mean  2,698.11  2003-09-12 00:26:12.659732480          31,038,476.84   \n",
              "min       1.00            1915-08-02 00:00:00               1,100.00   \n",
              "25%   1,351.75            1999-12-02 00:00:00           5,000,000.00   \n",
              "50%   2,698.50            2006-06-16 00:00:00          17,000,000.00   \n",
              "75%   4,045.25            2011-11-18 00:00:00          40,000,000.00   \n",
              "max   5,391.00            2017-12-31 00:00:00         425,000,000.00   \n",
              "std   1,555.79                            NaN          40,440,041.47   \n",
              "\n",
              "       USD_Worldwide_Gross  USD_Domestic_Gross  \n",
              "count             5,384.00            5,384.00  \n",
              "mean         88,970,947.21       41,289,131.75  \n",
              "min                   0.00                0.00  \n",
              "25%           3,929,036.00        1,354,765.25  \n",
              "50%          27,537,329.00       17,221,932.00  \n",
              "75%          96,641,996.25       52,403,530.00  \n",
              "max       2,783,918,982.00      936,662,225.00  \n",
              "std         168,536,755.89       66,055,507.64  "
            ]
          },
          "execution_count": 17,
          "metadata": {},
          "output_type": "execute_result"
        }
      ],
      "source": [
        "data_clean.describe()"
      ]
    },
    {
      "cell_type": "code",
      "execution_count": 18,
      "metadata": {
        "id": "7uW_U9StTgvZ"
      },
      "outputs": [
        {
          "name": "stdout",
          "output_type": "stream",
          "text": [
            "Films that Lost Money Percentage: 37.27711738484398\n"
          ]
        },
        {
          "data": {
            "text/html": [
              "<div>\n",
              "<style scoped>\n",
              "    .dataframe tbody tr th:only-of-type {\n",
              "        vertical-align: middle;\n",
              "    }\n",
              "\n",
              "    .dataframe tbody tr th {\n",
              "        vertical-align: top;\n",
              "    }\n",
              "\n",
              "    .dataframe thead th {\n",
              "        text-align: right;\n",
              "    }\n",
              "</style>\n",
              "<table border=\"1\" class=\"dataframe\">\n",
              "  <thead>\n",
              "    <tr style=\"text-align: right;\">\n",
              "      <th></th>\n",
              "      <th>Rank</th>\n",
              "      <th>Release_Date</th>\n",
              "      <th>Movie_Title</th>\n",
              "      <th>USD_Production_Budget</th>\n",
              "      <th>USD_Worldwide_Gross</th>\n",
              "      <th>USD_Domestic_Gross</th>\n",
              "    </tr>\n",
              "  </thead>\n",
              "  <tbody>\n",
              "    <tr>\n",
              "      <th>1</th>\n",
              "      <td>5140</td>\n",
              "      <td>1916-05-09</td>\n",
              "      <td>Intolerance</td>\n",
              "      <td>385907</td>\n",
              "      <td>0</td>\n",
              "      <td>0</td>\n",
              "    </tr>\n",
              "    <tr>\n",
              "      <th>6</th>\n",
              "      <td>4630</td>\n",
              "      <td>1927-12-08</td>\n",
              "      <td>Wings</td>\n",
              "      <td>2000000</td>\n",
              "      <td>0</td>\n",
              "      <td>0</td>\n",
              "    </tr>\n",
              "    <tr>\n",
              "      <th>8</th>\n",
              "      <td>4240</td>\n",
              "      <td>1930-01-01</td>\n",
              "      <td>Hell's Angels</td>\n",
              "      <td>4000000</td>\n",
              "      <td>0</td>\n",
              "      <td>0</td>\n",
              "    </tr>\n",
              "    <tr>\n",
              "      <th>15</th>\n",
              "      <td>4738</td>\n",
              "      <td>1936-05-02</td>\n",
              "      <td>Modern Times</td>\n",
              "      <td>1500000</td>\n",
              "      <td>165049</td>\n",
              "      <td>163245</td>\n",
              "    </tr>\n",
              "    <tr>\n",
              "      <th>17</th>\n",
              "      <td>4814</td>\n",
              "      <td>1936-10-20</td>\n",
              "      <td>Charge of the Light Brigade, The</td>\n",
              "      <td>1200000</td>\n",
              "      <td>0</td>\n",
              "      <td>0</td>\n",
              "    </tr>\n",
              "    <tr>\n",
              "      <th>...</th>\n",
              "      <td>...</td>\n",
              "      <td>...</td>\n",
              "      <td>...</td>\n",
              "      <td>...</td>\n",
              "      <td>...</td>\n",
              "      <td>...</td>\n",
              "    </tr>\n",
              "    <tr>\n",
              "      <th>5371</th>\n",
              "      <td>4901</td>\n",
              "      <td>2017-07-28</td>\n",
              "      <td>An Inconvenient Sequel</td>\n",
              "      <td>1000000</td>\n",
              "      <td>130874</td>\n",
              "      <td>130874</td>\n",
              "    </tr>\n",
              "    <tr>\n",
              "      <th>5373</th>\n",
              "      <td>2161</td>\n",
              "      <td>2017-08-25</td>\n",
              "      <td>Tulip Fever</td>\n",
              "      <td>25000000</td>\n",
              "      <td>0</td>\n",
              "      <td>0</td>\n",
              "    </tr>\n",
              "    <tr>\n",
              "      <th>5374</th>\n",
              "      <td>4237</td>\n",
              "      <td>2017-08-25</td>\n",
              "      <td>Polina danser sa vie</td>\n",
              "      <td>4000000</td>\n",
              "      <td>36630</td>\n",
              "      <td>0</td>\n",
              "    </tr>\n",
              "    <tr>\n",
              "      <th>5381</th>\n",
              "      <td>94</td>\n",
              "      <td>2017-12-05</td>\n",
              "      <td>King Arthur: Legend of the Sword</td>\n",
              "      <td>175000000</td>\n",
              "      <td>140012608</td>\n",
              "      <td>39175066</td>\n",
              "    </tr>\n",
              "    <tr>\n",
              "      <th>5383</th>\n",
              "      <td>2521</td>\n",
              "      <td>2017-12-31</td>\n",
              "      <td>The Thousand Miles</td>\n",
              "      <td>20000000</td>\n",
              "      <td>0</td>\n",
              "      <td>0</td>\n",
              "    </tr>\n",
              "  </tbody>\n",
              "</table>\n",
              "<p>2007 rows × 6 columns</p>\n",
              "</div>"
            ],
            "text/plain": [
              "      Rank Release_Date                       Movie_Title  \\\n",
              "1     5140   1916-05-09                       Intolerance   \n",
              "6     4630   1927-12-08                             Wings   \n",
              "8     4240   1930-01-01                     Hell's Angels   \n",
              "15    4738   1936-05-02                      Modern Times   \n",
              "17    4814   1936-10-20  Charge of the Light Brigade, The   \n",
              "...    ...          ...                               ...   \n",
              "5371  4901   2017-07-28            An Inconvenient Sequel   \n",
              "5373  2161   2017-08-25                       Tulip Fever   \n",
              "5374  4237   2017-08-25              Polina danser sa vie   \n",
              "5381    94   2017-12-05  King Arthur: Legend of the Sword   \n",
              "5383  2521   2017-12-31                The Thousand Miles   \n",
              "\n",
              "      USD_Production_Budget  USD_Worldwide_Gross  USD_Domestic_Gross  \n",
              "1                    385907                    0                   0  \n",
              "6                   2000000                    0                   0  \n",
              "8                   4000000                    0                   0  \n",
              "15                  1500000               165049              163245  \n",
              "17                  1200000                    0                   0  \n",
              "...                     ...                  ...                 ...  \n",
              "5371                1000000               130874              130874  \n",
              "5373               25000000                    0                   0  \n",
              "5374                4000000                36630                   0  \n",
              "5381              175000000            140012608            39175066  \n",
              "5383               20000000                    0                   0  \n",
              "\n",
              "[2007 rows x 6 columns]"
            ]
          },
          "execution_count": 18,
          "metadata": {},
          "output_type": "execute_result"
        }
      ],
      "source": [
        "lost_money_movies = data_clean.query('USD_Production_Budget > USD_Worldwide_Gross')\n",
        "print(f'Films that Lost Money Percentage: {lost_money_movies.shape[0] / data_clean.shape[0] * 100}')\n",
        "lost_money_movies"
      ]
    },
    {
      "cell_type": "markdown",
      "metadata": {
        "id": "cfJUL3WwyiDy"
      },
      "source": [
        "# Seaborn for Data Viz: Bubble Charts"
      ]
    },
    {
      "cell_type": "code",
      "execution_count": 19,
      "metadata": {
        "id": "YXa3bp1uTiSS"
      },
      "outputs": [
        {
          "data": {
            "image/png": "[encoded data removed]",
            "text/plain": [
              "<Figure size 960x480 with 1 Axes>"
            ]
          },
          "metadata": {},
          "output_type": "display_data"
        }
      ],
      "source": [
        "plt.figure(figsize=(8, 4), dpi=120)\n",
        "ax = sns.scatterplot(data_clean, x='USD_Production_Budget', y='USD_Worldwide_Gross')\n",
        "\n",
        "ax.set(\n",
        "    ylim=(data_clean['USD_Worldwide_Gross'].min(), data_clean['USD_Worldwide_Gross'].max()),\n",
        "    xlim=(data_clean['USD_Production_Budget'].min(), data_clean['USD_Production_Budget'].max()),\n",
        "    ylabel='Gross Revenue in Billions USD',\n",
        "    xlabel='Production Budget in Hundreds of Millions USD')\n",
        "\n",
        "plt.show()"
      ]
    },
    {
      "cell_type": "markdown",
      "metadata": {
        "id": "e7NIOiL2y3en"
      },
      "source": [
        "### Plotting Movie Releases over Time\n",
        "\n",
        "**Challenge**: Try to create the following Bubble Chart:\n",
        "\n",
        "<img src=https://i.imgur.com/8fUn9T6.png>\n",
        "\n"
      ]
    },
    {
      "cell_type": "code",
      "execution_count": 30,
      "metadata": {
        "id": "OT0D-i3HTmsB"
      },
      "outputs": [
        {
          "data": {
            "image/png": "[encoded data removed]",
            "text/plain": [
              "<Figure size 1200x720 with 1 Axes>"
            ]
          },
          "metadata": {},
          "output_type": "display_data"
        }
      ],
      "source": [
        "plt.figure(figsize=(10, 6), dpi=120)\n",
        "sns.set_style(style='darkgrid')\n",
        "x2 = sns.scatterplot(data_clean, y='USD_Worldwide_Gross', x='USD_Production_Budget', hue='USD_Worldwide_Gross', size='USD_Worldwide_Gross')\n",
        "\n",
        "x2.set(ylabel='Worldwide Revenue in billion USD', xlabel='Production Budget in $100M USD', ylim=(0, 3000000000))\n",
        "plt.show()"
      ]
    },
    {
      "cell_type": "markdown",
      "metadata": {
        "id": "r_2hFz9py84b"
      },
      "source": [
        "# Converting Years to Decades Trick\n",
        "\n",
        "**Challenge**: Create a column in `data_clean` that has the decade of the release. \n",
        "\n",
        "<img src=https://i.imgur.com/0VEfagw.png width=650> \n",
        "\n",
        "Here's how: \n",
        "1. Create a [`DatetimeIndex` object](https://pandas.pydata.org/pandas-docs/stable/reference/api/pandas.DatetimeIndex.html) from the Release_Date column. \n",
        "2. Grab all the years from the `DatetimeIndex` object using the `.year` property.\n",
        "<img src=https://i.imgur.com/5m06Ach.png width=650>\n",
        "3. Use floor division `//` to convert the year data to the decades of the films.\n",
        "4. Add the decades as a `Decade` column to the `data_clean` DataFrame."
      ]
    },
    {
      "cell_type": "code",
      "execution_count": 75,
      "metadata": {
        "id": "lak08IPMTn-j"
      },
      "outputs": [
        {
          "data": {
            "text/html": [
              "<div>\n",
              "<style scoped>\n",
              "    .dataframe tbody tr th:only-of-type {\n",
              "        vertical-align: middle;\n",
              "    }\n",
              "\n",
              "    .dataframe tbody tr th {\n",
              "        vertical-align: top;\n",
              "    }\n",
              "\n",
              "    .dataframe thead th {\n",
              "        text-align: right;\n",
              "    }\n",
              "</style>\n",
              "<table border=\"1\" class=\"dataframe\">\n",
              "  <thead>\n",
              "    <tr style=\"text-align: right;\">\n",
              "      <th></th>\n",
              "      <th>Rank</th>\n",
              "      <th>Release_Date</th>\n",
              "      <th>Movie_Title</th>\n",
              "      <th>USD_Production_Budget</th>\n",
              "      <th>USD_Worldwide_Gross</th>\n",
              "      <th>USD_Domestic_Gross</th>\n",
              "      <th>Decade</th>\n",
              "    </tr>\n",
              "  </thead>\n",
              "  <tbody>\n",
              "    <tr>\n",
              "      <th>0</th>\n",
              "      <td>5293</td>\n",
              "      <td>1915-08-02</td>\n",
              "      <td>The Birth of a Nation</td>\n",
              "      <td>110000</td>\n",
              "      <td>11000000</td>\n",
              "      <td>10000000</td>\n",
              "      <td>1910</td>\n",
              "    </tr>\n",
              "    <tr>\n",
              "      <th>1</th>\n",
              "      <td>5140</td>\n",
              "      <td>1916-05-09</td>\n",
              "      <td>Intolerance</td>\n",
              "      <td>385907</td>\n",
              "      <td>0</td>\n",
              "      <td>0</td>\n",
              "      <td>1910</td>\n",
              "    </tr>\n",
              "    <tr>\n",
              "      <th>2</th>\n",
              "      <td>5230</td>\n",
              "      <td>1916-12-24</td>\n",
              "      <td>20,000 Leagues Under the Sea</td>\n",
              "      <td>200000</td>\n",
              "      <td>8000000</td>\n",
              "      <td>8000000</td>\n",
              "      <td>1910</td>\n",
              "    </tr>\n",
              "    <tr>\n",
              "      <th>3</th>\n",
              "      <td>5299</td>\n",
              "      <td>1920-09-17</td>\n",
              "      <td>Over the Hill to the Poorhouse</td>\n",
              "      <td>100000</td>\n",
              "      <td>3000000</td>\n",
              "      <td>3000000</td>\n",
              "      <td>1920</td>\n",
              "    </tr>\n",
              "    <tr>\n",
              "      <th>4</th>\n",
              "      <td>5222</td>\n",
              "      <td>1925-01-01</td>\n",
              "      <td>The Big Parade</td>\n",
              "      <td>245000</td>\n",
              "      <td>22000000</td>\n",
              "      <td>11000000</td>\n",
              "      <td>1920</td>\n",
              "    </tr>\n",
              "    <tr>\n",
              "      <th>...</th>\n",
              "      <td>...</td>\n",
              "      <td>...</td>\n",
              "      <td>...</td>\n",
              "      <td>...</td>\n",
              "      <td>...</td>\n",
              "      <td>...</td>\n",
              "      <td>...</td>\n",
              "    </tr>\n",
              "    <tr>\n",
              "      <th>5379</th>\n",
              "      <td>1295</td>\n",
              "      <td>2017-10-02</td>\n",
              "      <td>John Wick: Chapter Two</td>\n",
              "      <td>40000000</td>\n",
              "      <td>166893990</td>\n",
              "      <td>92029184</td>\n",
              "      <td>2010</td>\n",
              "    </tr>\n",
              "    <tr>\n",
              "      <th>5380</th>\n",
              "      <td>70</td>\n",
              "      <td>2017-10-03</td>\n",
              "      <td>Kong: Skull Island</td>\n",
              "      <td>185000000</td>\n",
              "      <td>561137727</td>\n",
              "      <td>168052812</td>\n",
              "      <td>2010</td>\n",
              "    </tr>\n",
              "    <tr>\n",
              "      <th>5381</th>\n",
              "      <td>94</td>\n",
              "      <td>2017-12-05</td>\n",
              "      <td>King Arthur: Legend of the Sword</td>\n",
              "      <td>175000000</td>\n",
              "      <td>140012608</td>\n",
              "      <td>39175066</td>\n",
              "      <td>2010</td>\n",
              "    </tr>\n",
              "    <tr>\n",
              "      <th>5382</th>\n",
              "      <td>1254</td>\n",
              "      <td>2017-12-05</td>\n",
              "      <td>Snatched</td>\n",
              "      <td>42000000</td>\n",
              "      <td>57850343</td>\n",
              "      <td>45850343</td>\n",
              "      <td>2010</td>\n",
              "    </tr>\n",
              "    <tr>\n",
              "      <th>5383</th>\n",
              "      <td>2521</td>\n",
              "      <td>2017-12-31</td>\n",
              "      <td>The Thousand Miles</td>\n",
              "      <td>20000000</td>\n",
              "      <td>0</td>\n",
              "      <td>0</td>\n",
              "      <td>2010</td>\n",
              "    </tr>\n",
              "  </tbody>\n",
              "</table>\n",
              "<p>5384 rows × 7 columns</p>\n",
              "</div>"
            ],
            "text/plain": [
              "      Rank Release_Date                       Movie_Title  \\\n",
              "0     5293   1915-08-02             The Birth of a Nation   \n",
              "1     5140   1916-05-09                       Intolerance   \n",
              "2     5230   1916-12-24      20,000 Leagues Under the Sea   \n",
              "3     5299   1920-09-17    Over the Hill to the Poorhouse   \n",
              "4     5222   1925-01-01                    The Big Parade   \n",
              "...    ...          ...                               ...   \n",
              "5379  1295   2017-10-02            John Wick: Chapter Two   \n",
              "5380    70   2017-10-03                Kong: Skull Island   \n",
              "5381    94   2017-12-05  King Arthur: Legend of the Sword   \n",
              "5382  1254   2017-12-05                          Snatched   \n",
              "5383  2521   2017-12-31                The Thousand Miles   \n",
              "\n",
              "      USD_Production_Budget  USD_Worldwide_Gross  USD_Domestic_Gross  Decade  \n",
              "0                    110000             11000000            10000000    1910  \n",
              "1                    385907                    0                   0    1910  \n",
              "2                    200000              8000000             8000000    1910  \n",
              "3                    100000              3000000             3000000    1920  \n",
              "4                    245000             22000000            11000000    1920  \n",
              "...                     ...                  ...                 ...     ...  \n",
              "5379               40000000            166893990            92029184    2010  \n",
              "5380              185000000            561137727           168052812    2010  \n",
              "5381              175000000            140012608            39175066    2010  \n",
              "5382               42000000             57850343            45850343    2010  \n",
              "5383               20000000                    0                   0    2010  \n",
              "\n",
              "[5384 rows x 7 columns]"
            ]
          },
          "execution_count": 75,
          "metadata": {},
          "output_type": "execute_result"
        }
      ],
      "source": [
        "dt_inx = pd.DatetimeIndex(data_clean.Release_Date)\n",
        "years = dt_inx.year\n",
        "data_clean['Decade'] = years // 10 * 10\n",
        "data_clean"
      ]
    },
    {
      "cell_type": "markdown",
      "metadata": {
        "id": "q-X7NK_9zIz9"
      },
      "source": [
        "### Separate the \"old\" (before 1969) and \"New\" (1970s onwards) Films\n",
        "\n",
        "**Challenge**: Create two new DataFrames: `old_films` and `new_films`\n",
        "* `old_films` should include all the films before 1969 (up to and including 1969)\n",
        "* `new_films` should include all the films from 1970 onwards\n",
        "* How many films were released prior to 1970?\n",
        "* What was the most expensive film made prior to 1970?"
      ]
    },
    {
      "cell_type": "code",
      "execution_count": null,
      "metadata": {
        "id": "qe93nMcBTqQz"
      },
      "outputs": [],
      "source": []
    },
    {
      "cell_type": "markdown",
      "metadata": {
        "id": "msXABzF3zW7e"
      },
      "source": [
        "# Seaborn Regression Plots"
      ]
    },
    {
      "cell_type": "code",
      "execution_count": null,
      "metadata": {
        "id": "2ajPcWMJTsom"
      },
      "outputs": [],
      "source": []
    },
    {
      "cell_type": "markdown",
      "metadata": {
        "id": "6k4MeLmxWFwX"
      },
      "source": [
        "**Challenge**: Use Seaborn's `.regplot()` to show the scatter plot and linear regression line against the `new_films`. \n",
        "<br>\n",
        "<br>\n",
        "Style the chart\n",
        "\n",
        "* Put the chart on a `'darkgrid'`.\n",
        "* Set limits on the axes so that they don't show negative values.\n",
        "* Label the axes on the plot \"Revenue in \\$ billions\" and \"Budget in \\$ millions\".\n",
        "* Provide HEX colour codes for the plot and the regression line. Make the dots dark blue (#2f4b7c) and the line orange (#ff7c43).\n",
        "\n",
        "Interpret the chart\n",
        "\n",
        "* Do our data points for the new films align better or worse with the linear regression than for our older films?\n",
        "* Roughly how much would a film with a budget of $150 million make according to the regression line?"
      ]
    },
    {
      "cell_type": "code",
      "execution_count": null,
      "metadata": {
        "id": "6cOVsxqvTui2"
      },
      "outputs": [],
      "source": []
    },
    {
      "cell_type": "markdown",
      "metadata": {
        "id": "Q1SUPPMAzlVK"
      },
      "source": [
        "# Run Your Own Regression with scikit-learn\n",
        "\n",
        "$$ REV \\hat ENUE = \\theta _0 + \\theta _1 BUDGET$$"
      ]
    },
    {
      "cell_type": "code",
      "execution_count": null,
      "metadata": {
        "id": "QmX-wMMLTwBW"
      },
      "outputs": [],
      "source": []
    },
    {
      "cell_type": "markdown",
      "metadata": {
        "id": "o23E9iT1RHQ1"
      },
      "source": [
        "**Challenge**: Run a linear regression for the `old_films`. Calculate the intercept, slope and r-squared. How much of the variance in movie revenue does the linear model explain in this case?"
      ]
    },
    {
      "cell_type": "code",
      "execution_count": null,
      "metadata": {
        "id": "Sd43DJNDT0yQ"
      },
      "outputs": [],
      "source": []
    },
    {
      "cell_type": "code",
      "execution_count": null,
      "metadata": {
        "id": "ygKsLBx5Rs7t"
      },
      "outputs": [],
      "source": []
    },
    {
      "cell_type": "markdown",
      "metadata": {
        "id": "hoD3PeG75p78"
      },
      "source": [
        "# Use Your Model to Make a Prediction\n",
        "\n",
        "We just estimated the slope and intercept! Remember that our Linear Model has the following form:\n",
        "\n",
        "$$ REV \\hat ENUE = \\theta _0 + \\theta _1 BUDGET$$\n",
        "\n",
        "**Challenge**:  How much global revenue does our model estimate for a film with a budget of $350 million? "
      ]
    },
    {
      "cell_type": "code",
      "execution_count": null,
      "metadata": {
        "id": "fX4I4h5i5rgF"
      },
      "outputs": [],
      "source": []
    },
    {
      "cell_type": "code",
      "execution_count": null,
      "metadata": {
        "id": "fB2Yp8ln5qfO"
      },
      "outputs": [],
      "source": []
    }
  ],
  "metadata": {
    "colab": {
      "name": "Seaborn and Linear Regression (start).ipynb",
      "provenance": []
    },
    "kernelspec": {
      "display_name": "Python 3",
      "name": "python3"
    },
    "language_info": {
      "codemirror_mode": {
        "name": "ipython",
        "version": 3
      },
      "file_extension": ".py",
      "mimetype": "text/x-python",
      "name": "python",
      "nbconvert_exporter": "python",
      "pygments_lexer": "ipython3",
      "version": "3.11.4"
    }
  },
  "nbformat": 4,
  "nbformat_minor": 0
}
